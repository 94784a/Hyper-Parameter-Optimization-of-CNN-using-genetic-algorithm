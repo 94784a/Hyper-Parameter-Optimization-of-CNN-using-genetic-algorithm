{
  "nbformat": 4,
  "nbformat_minor": 0,
  "metadata": {
    "colab": {
      "name": "Optimization using genetic algorithm-Cifar10 using CNN.ipynb",
      "provenance": [],
      "collapsed_sections": []
    },
    "kernelspec": {
      "name": "python3",
      "display_name": "Python 3"
    },
    "accelerator": "GPU"
  },
  "cells": [
    {
      "cell_type": "code",
      "metadata": {
        "id": "t3GMm8jpmoVe"
      },
      "source": [
        "from keras import datasets\n",
        "\n",
        "(x_train, y_train), (x_test, y_test) = datasets.cifar10.load_data()"
      ],
      "execution_count": null,
      "outputs": []
    },
    {
      "cell_type": "code",
      "metadata": {
        "id": "9Lf6_SScmsgH"
      },
      "source": [
        "x_train.shape, y_train.shape"
      ],
      "execution_count": null,
      "outputs": []
    },
    {
      "cell_type": "code",
      "metadata": {
        "id": "kw7E3t_Xmuve"
      },
      "source": [
        "x_test.shape, y_test.shape"
      ],
      "execution_count": null,
      "outputs": []
    },
    {
      "cell_type": "code",
      "metadata": {
        "id": "RR82I_P5mwXU"
      },
      "source": [
        "train_images =x_train.astype('float32')/255\n",
        "test_images=x_test.astype('float32')/255"
      ],
      "execution_count": null,
      "outputs": []
    },
    {
      "cell_type": "code",
      "metadata": {
        "id": "3ohQu9kym0By"
      },
      "source": [
        "\n",
        "from keras.utils.np_utils import to_categorical\n",
        "\n",
        "train_labels=to_categorical(y_train)\n",
        "test_labels=to_categorical(y_test)"
      ],
      "execution_count": null,
      "outputs": []
    },
    {
      "cell_type": "code",
      "metadata": {
        "id": "QyMv8ojZm2M7"
      },
      "source": [
        "val_images=train_images[:10000]\n",
        "partial_images=train_images[10000:]\n",
        "\n",
        "val_labels=train_labels[:10000]\n",
        "partial_labels=train_labels[10000:]"
      ],
      "execution_count": null,
      "outputs": []
    },
    {
      "cell_type": "code",
      "metadata": {
        "id": "ueKjpXWOjJ5o"
      },
      "source": [
        "\n",
        "from keras import layers\n",
        "from keras import models\n",
        "from keras.callbacks import EarlyStopping"
      ],
      "execution_count": null,
      "outputs": []
    },
    {
      "cell_type": "code",
      "metadata": {
        "id": "06WCuRbLjDXv"
      },
      "source": [
        "\n",
        "def CNN_model( f1, f2, f3, k, a1, a2, d1, d2, op, ep):\n",
        "  model = models.Sequential()\n",
        "  model.add(layers.Conv2D(filters = f1, kernel_size = (k, k), activation = a1, input_shape = (32,32,3)))\n",
        "  model.add(layers.Conv2D(filters = f1, kernel_size = (k, k), activation = a1))\n",
        "  model.add(layers.MaxPooling2D(2,2))\n",
        "  model.add(layers.Conv2D(filters = f2, kernel_size = (k, k), activation = a2))\n",
        "  model.add(layers.Conv2D(filters = f2, kernel_size = (k, k), activation = a2))\n",
        "  model.add(layers.MaxPooling2D(2,2))\n",
        "  model.add(layers.Flatten())\n",
        "  model.add(layers.Dropout(rate = d1))\n",
        "  model.add(layers.Dense(units = f3, activation = a2))\n",
        "  model.add(layers.Dropout(rate = d2))\n",
        "  model.add(layers.Dense(10, activation= \"softmax\"))\n",
        "\n",
        "  model.compile(loss = \"categorical_crossentropy\", optimizer = op, metrics = [\"accuracy\"])\n",
        "  es = EarlyStopping(monitor=\"val_accuracy\", patience = 7)\n",
        "  model.fit(partial_images, partial_labels, validation_data=(val_images,val_labels), epochs=ep, batch_size = 100, callbacks = [es])\n",
        "\n",
        "  return model"
      ],
      "execution_count": null,
      "outputs": []
    },
    {
      "cell_type": "code",
      "metadata": {
        "id": "TZRN4Zkh1Yu_"
      },
      "source": [
        "from random import choice\n",
        "from random import uniform\n",
        "from numpy.random import randint"
      ],
      "execution_count": null,
      "outputs": []
    },
    {
      "cell_type": "code",
      "metadata": {
        "id": "i6oy-UhmslXQ"
      },
      "source": [
        "def initialization():  \n",
        "  parameters = {}\n",
        "  f1 = choice([32, 64])\n",
        "  parameters[\"f1\"] = f1\n",
        "  f2 = choice([64, 128])\n",
        "  parameters[\"f2\"] = f2\n",
        "  f3 = choice([128, 256, 512])\n",
        "  parameters[\"f3\"] = f3\n",
        "  k = choice([3,5])\n",
        "  parameters[\"k\"] = k\n",
        "  a1 = choice([\"relu\", \"selu\", \"elu\"])\n",
        "  parameters[\"a1\"] = a1\n",
        "  a2 = choice([\"relu\", \"selu\", \"elu\"])\n",
        "  parameters[\"a2\"] = a2\n",
        "  d1 = round(uniform(0.1, 0.5), 1)\n",
        "  parameters[\"d1\"] = d1\n",
        "  d2 = round(uniform(0.1, 0.5), 1)\n",
        "  parameters[\"d2\"] = d2\n",
        "  op = choice([\"adamax\", \"adadelta\", \"adam\", \"adagrad\"])\n",
        "  parameters[\"op\"] = op\n",
        "  ep = randint(50, 100)\n",
        "  parameters[\"ep\"] = ep\n",
        "  return parameters"
      ],
      "execution_count": null,
      "outputs": []
    },
    {
      "cell_type": "code",
      "metadata": {
        "id": "87ThhBE96zCm"
      },
      "source": [
        "def generate_population(n):\n",
        "  population = []\n",
        "  for i in range(n):\n",
        "    chromosome = initialization()\n",
        "    population.append(chromosome)\n",
        "  return population"
      ],
      "execution_count": null,
      "outputs": []
    },
    {
      "cell_type": "code",
      "metadata": {
        "id": "SomjG3tQ310Z"
      },
      "source": [
        "# Fitness evaluation metric: Classification Accuracy \n",
        "def fitness_evaluation(model):\n",
        "  metrics = model.evaluate(test_images, test_labels)\n",
        "  return metrics[1]"
      ],
      "execution_count": null,
      "outputs": []
    },
    {
      "cell_type": "code",
      "metadata": {
        "id": "-d8QyqTQ35O1"
      },
      "source": [
        "# Roulette wheel selection method\n",
        "def selection(population_fitness):\n",
        "  total = sum(population_fitness)\n",
        "  percentage = [round((x/total) * 100) for x in population_fitness]\n",
        "  selection_wheel = []\n",
        "  for pop_index,num in enumerate(percentage):\n",
        "    selection_wheel.extend([pop_index]*num)\n",
        "  parent1_ind = choice(selection_wheel)\n",
        "  parent2_ind = choice(selection_wheel)\n",
        "  return [parent1_ind, parent2_ind]"
      ],
      "execution_count": null,
      "outputs": []
    },
    {
      "cell_type": "code",
      "metadata": {
        "id": "9tw9NKnz379Q"
      },
      "source": [
        "def crossover(parent1, parent2):\n",
        "  child1 = {}\n",
        "  child2 = {}\n",
        "\n",
        "  child1[\"f1\"] = choice([parent1[\"f1\"], parent2[\"f1\"]])\n",
        "  child1[\"f2\"] = choice([parent1[\"f2\"], parent2[\"f2\"]])\n",
        "  child1[\"f3\"] = choice([parent1[\"f3\"], parent2[\"f3\"]])\n",
        "\n",
        "  child2[\"f1\"] = choice([parent1[\"f1\"], parent2[\"f1\"]])\n",
        "  child2[\"f2\"] = choice([parent1[\"f2\"], parent2[\"f2\"]])\n",
        "  child2[\"f3\"] = choice([parent1[\"f3\"], parent2[\"f3\"]])\n",
        "\n",
        "  child1[\"k\"] = choice([parent1[\"k\"], parent2[\"k\"]])\n",
        "  child2[\"k\"] = choice([parent1[\"k\"], parent2[\"k\"]])\n",
        "\n",
        "  child1[\"a1\"] = parent1[\"a2\"]\n",
        "  child2[\"a1\"] = parent2[\"a2\"]\n",
        "\n",
        "  child1[\"a2\"] = parent2[\"a1\"]\n",
        "  child2[\"a2\"] = parent1[\"a1\"]\n",
        "\n",
        "  child1[\"d1\"] = parent1[\"d1\"]\n",
        "  child2[\"d1\"] = parent2[\"d1\"]\n",
        "\n",
        "  child1[\"d2\"] = parent2[\"d2\"]\n",
        "  child2[\"d2\"] = parent1[\"d2\"]\n",
        "\n",
        "  child1[\"op\"] = parent2[\"op\"]\n",
        "  child2[\"op\"] = parent1[\"op\"]\n",
        "\n",
        "  child1[\"ep\"] = parent1[\"ep\"]\n",
        "  child2[\"ep\"] = parent2[\"ep\"]\n",
        "  return [child1, child2]"
      ],
      "execution_count": null,
      "outputs": []
    },
    {
      "cell_type": "code",
      "metadata": {
        "id": "OvHJT5d23-AN"
      },
      "source": [
        "def mutation(chromosome):\n",
        "  flag = randint(0,40)\n",
        "  if flag <= 20:\n",
        "    chromosome[\"ep\"] += randint(0, 10)\n",
        "  return chromosome"
      ],
      "execution_count": null,
      "outputs": []
    },
    {
      "cell_type": "code",
      "metadata": {
        "id": "oHz68ueB4Bv6"
      },
      "source": [
        "generations = 5\n",
        "threshold = 90\n",
        "num_pop = 10\n",
        "\n",
        "population = generate_population(num_pop)\n",
        "\n",
        "for generation in range(generations):\n",
        "\n",
        "  population_fitness = []\n",
        "  for chromosome in population:\n",
        "    f1 = chromosome[\"f1\"]\n",
        "    f2 = chromosome[\"f2\"]\n",
        "    f3 = chromosome[\"f3\"]\n",
        "    k = chromosome[\"k\"]\n",
        "    a1 = chromosome[\"a1\"]\n",
        "    a2 = chromosome[\"a2\"]\n",
        "    d1 = chromosome[\"d1\"]\n",
        "    d2 = chromosome[\"d2\"]\n",
        "    op = chromosome[\"op\"]\n",
        "    ep = chromosome[\"ep\"]\n",
        "\n",
        "    try:\n",
        "      model = CNN_model(f1, f2, f3, k, a1, a2, d1, d2, op, ep)\n",
        "      acc = fitness_evaluation(model)\n",
        "      print(\"Parameters: \", chromosome)\n",
        "      print(\"Accuracy: \", round(acc,3))\n",
        "    except:\n",
        "      acc=0\n",
        "      print(\"Parameters: \", chromosome)\n",
        "      print(\"Invalid parameters - Build fail\")\n",
        "\n",
        "    population_fitness.append(acc)\n",
        "    \n",
        "  parents_ind = selection(population_fitness)\n",
        "  parent1 = population[parents_ind[0]]\n",
        "  parent2 = population[parents_ind[1]]\n",
        "\n",
        "  children = crossover(parent1, parent2)\n",
        "  child1 = mutation(children[0])\n",
        "  child2 = mutation(children[1])\n",
        "\n",
        "  population.append(child1)\n",
        "  population.append(child2)\n",
        "\n",
        "  print(\"Generation \", generation+1,\" Outcome: \")\n",
        "  if max(population_fitness) >= threshold:\n",
        "    print(\"Obtained desired accuracy: \", max(population_fitness))\n",
        "    break\n",
        "  else:\n",
        "    print(\"Maximum accuracy in generation {} : {}\".format(generation+1, max(population_fitness)))\n",
        "\n",
        "  first_min = min(population_fitness)\n",
        "  first_min_ind = population_fitness.index(first_min)\n",
        "  population.remove(population[first_min_ind])\n",
        "  second_min = min(population_fitness)\n",
        "  second_min_ind = population_fitness.index(second_min)\n",
        "  population.remove(population[second_min_ind])"
      ],
      "execution_count": null,
      "outputs": []
    },
    {
      "cell_type": "code",
      "metadata": {
        "id": "apqr-B4B67OW"
      },
      "source": [
        ""
      ],
      "execution_count": null,
      "outputs": []
    }
  ]
}